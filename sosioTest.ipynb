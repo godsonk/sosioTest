{
  "nbformat": 4,
  "nbformat_minor": 0,
  "metadata": {
    "colab": {
      "name": "sosioTest.ipynb",
      "version": "0.3.2",
      "provenance": [],
      "collapsed_sections": []
    },
    "kernelspec": {
      "name": "python3",
      "display_name": "Python 3"
    }
  },
  "cells": [
    {
      "cell_type": "markdown",
      "metadata": {
        "id": "oiYxiwulx8zL",
        "colab_type": "text"
      },
      "source": [
        "#SOSIO INTERNSHIP TEST 1"
      ]
    },
    {
      "cell_type": "code",
      "metadata": {
        "id": "sqVdQK1WhbXX",
        "colab_type": "code",
        "outputId": "4e42ac88-c211-411d-ca24-d4b273109181",
        "colab": {
          "base_uri": "https://localhost:8080/",
          "height": 176
        }
      },
      "source": [
        "pip install mysql-connector-python"
      ],
      "execution_count": 0,
      "outputs": [
        {
          "output_type": "stream",
          "text": [
            "Collecting mysql-connector-python\n",
            "\u001b[?25l  Downloading https://files.pythonhosted.org/packages/40/f5/55dd794bb70a9b73510454ac3fb57c27450d70eaf5811f4fb618b80bcace/mysql_connector_python-8.0.16-cp36-cp36m-manylinux1_x86_64.whl (13.0MB)\n",
            "\u001b[K     |████████████████████████████████| 13.0MB 5.1MB/s \n",
            "\u001b[?25hRequirement already satisfied: protobuf>=3.0.0 in /usr/local/lib/python3.6/dist-packages (from mysql-connector-python) (3.7.1)\n",
            "Requirement already satisfied: setuptools in /usr/local/lib/python3.6/dist-packages (from protobuf>=3.0.0->mysql-connector-python) (41.0.1)\n",
            "Requirement already satisfied: six>=1.9 in /usr/local/lib/python3.6/dist-packages (from protobuf>=3.0.0->mysql-connector-python) (1.12.0)\n",
            "Installing collected packages: mysql-connector-python\n",
            "Successfully installed mysql-connector-python-8.0.16\n"
          ],
          "name": "stdout"
        }
      ]
    },
    {
      "cell_type": "code",
      "metadata": {
        "id": "2DCgn93KhN5s",
        "colab_type": "code",
        "colab": {}
      },
      "source": [
        "import mysql.connector\n",
        "import pandas as pd\n",
        "import seaborn as sns\n",
        "from sklearn.linear_model import LinearRegression\n",
        "from sklearn.model_selection import train_test_split\n",
        "from matplotlib import pyplot as plt\n",
        "from sklearn import metrics \n",
        "import numpy as np"
      ],
      "execution_count": 0,
      "outputs": []
    },
    {
      "cell_type": "markdown",
      "metadata": {
        "id": "CP1XmGLxyIqZ",
        "colab_type": "text"
      },
      "source": [
        "##Database Connection"
      ]
    },
    {
      "cell_type": "code",
      "metadata": {
        "id": "Gxh_MHEohpKq",
        "colab_type": "code",
        "outputId": "3bec29a2-5126-4e27-ae7e-374fc5aac865",
        "colab": {
          "base_uri": "https://localhost:8080/",
          "height": 35
        }
      },
      "source": [
        "\n",
        "conn = mysql.connector.connect(\n",
        "         user='foouser',\n",
        "         password='F88Pa%%**',\n",
        "         host='134.209.144.239',\n",
        "         database='stocksdb')\n",
        "print(conn)"
      ],
      "execution_count": 0,
      "outputs": [
        {
          "output_type": "stream",
          "text": [
            "<mysql.connector.connection_cext.CMySQLConnection object at 0x7f032fb2fd68>\n"
          ],
          "name": "stdout"
        }
      ]
    },
    {
      "cell_type": "code",
      "metadata": {
        "id": "q5lvIVGAi9hP",
        "colab_type": "code",
        "colab": {
          "base_uri": "https://localhost:8080/",
          "height": 35
        },
        "outputId": "7a5d73e8-fa4c-484d-8b64-3d707b50d84c"
      },
      "source": [
        "#We list the available tables in the database\n",
        "sql_select_Query = \"SHOW TABLES\"\n",
        "cursor = conn.cursor()\n",
        "cursor.execute(sql_select_Query)\n",
        "tables = cursor.fetchall()\n",
        "print(tables)"
      ],
      "execution_count": 52,
      "outputs": [
        {
          "output_type": "stream",
          "text": [
            "[('interview',)]\n"
          ],
          "name": "stdout"
        }
      ]
    },
    {
      "cell_type": "code",
      "metadata": {
        "id": "eBobtWuZjUpd",
        "colab_type": "code",
        "colab": {
          "base_uri": "https://localhost:8080/",
          "height": 202
        },
        "outputId": "3f333fe3-8ea0-4932-a5b2-543679a49c8e"
      },
      "source": [
        "#We retrieve the data from the interview table into a pandas dataframe\n",
        "sql_select_Query = \"SELECT * FROM interview\"\n",
        "df = pd.read_sql(sql_select_Query, conn)"
      ],
      "execution_count": 53,
      "outputs": [
        {
          "output_type": "execute_result",
          "data": {
            "text/html": [
              "<div>\n",
              "<style scoped>\n",
              "    .dataframe tbody tr th:only-of-type {\n",
              "        vertical-align: middle;\n",
              "    }\n",
              "\n",
              "    .dataframe tbody tr th {\n",
              "        vertical-align: top;\n",
              "    }\n",
              "\n",
              "    .dataframe thead th {\n",
              "        text-align: right;\n",
              "    }\n",
              "</style>\n",
              "<table border=\"1\" class=\"dataframe\">\n",
              "  <thead>\n",
              "    <tr style=\"text-align: right;\">\n",
              "      <th></th>\n",
              "      <th>isin</th>\n",
              "      <th>insertion_datetime</th>\n",
              "      <th>datetime</th>\n",
              "      <th>open</th>\n",
              "      <th>high</th>\n",
              "      <th>low</th>\n",
              "      <th>close</th>\n",
              "      <th>volume</th>\n",
              "      <th>open_interest</th>\n",
              "    </tr>\n",
              "  </thead>\n",
              "  <tbody>\n",
              "    <tr>\n",
              "      <th>0</th>\n",
              "      <td>INE545A01016</td>\n",
              "      <td>NaT</td>\n",
              "      <td>2018-01-01 09:15:00</td>\n",
              "      <td>2419.0</td>\n",
              "      <td>2436.00</td>\n",
              "      <td>2408.90</td>\n",
              "      <td>2435.25</td>\n",
              "      <td>10281</td>\n",
              "      <td>NaN</td>\n",
              "    </tr>\n",
              "    <tr>\n",
              "      <th>1</th>\n",
              "      <td>INE545A01016</td>\n",
              "      <td>NaT</td>\n",
              "      <td>2018-01-01 09:16:00</td>\n",
              "      <td>2435.0</td>\n",
              "      <td>2440.00</td>\n",
              "      <td>2426.45</td>\n",
              "      <td>2439.00</td>\n",
              "      <td>13315</td>\n",
              "      <td>NaN</td>\n",
              "    </tr>\n",
              "    <tr>\n",
              "      <th>2</th>\n",
              "      <td>INE545A01016</td>\n",
              "      <td>NaT</td>\n",
              "      <td>2018-01-01 09:17:00</td>\n",
              "      <td>2439.7</td>\n",
              "      <td>2439.70</td>\n",
              "      <td>2422.10</td>\n",
              "      <td>2424.95</td>\n",
              "      <td>3760</td>\n",
              "      <td>NaN</td>\n",
              "    </tr>\n",
              "    <tr>\n",
              "      <th>3</th>\n",
              "      <td>INE545A01016</td>\n",
              "      <td>NaT</td>\n",
              "      <td>2018-01-01 09:18:00</td>\n",
              "      <td>2420.0</td>\n",
              "      <td>2424.50</td>\n",
              "      <td>2386.50</td>\n",
              "      <td>2395.00</td>\n",
              "      <td>11653</td>\n",
              "      <td>NaN</td>\n",
              "    </tr>\n",
              "    <tr>\n",
              "      <th>4</th>\n",
              "      <td>INE545A01016</td>\n",
              "      <td>NaT</td>\n",
              "      <td>2018-01-01 09:19:00</td>\n",
              "      <td>2395.0</td>\n",
              "      <td>2413.95</td>\n",
              "      <td>2394.70</td>\n",
              "      <td>2409.85</td>\n",
              "      <td>7744</td>\n",
              "      <td>NaN</td>\n",
              "    </tr>\n",
              "  </tbody>\n",
              "</table>\n",
              "</div>"
            ],
            "text/plain": [
              "           isin insertion_datetime  ... volume  open_interest\n",
              "0  INE545A01016                NaT  ...  10281            NaN\n",
              "1  INE545A01016                NaT  ...  13315            NaN\n",
              "2  INE545A01016                NaT  ...   3760            NaN\n",
              "3  INE545A01016                NaT  ...  11653            NaN\n",
              "4  INE545A01016                NaT  ...   7744            NaN\n",
              "\n",
              "[5 rows x 9 columns]"
            ]
          },
          "metadata": {
            "tags": []
          },
          "execution_count": 53
        }
      ]
    },
    {
      "cell_type": "markdown",
      "metadata": {
        "id": "FuR3gEJozCtf",
        "colab_type": "text"
      },
      "source": [
        "##Data exploration"
      ]
    },
    {
      "cell_type": "code",
      "metadata": {
        "id": "70vqEEiHzIs7",
        "colab_type": "code",
        "colab": {
          "base_uri": "https://localhost:8080/",
          "height": 202
        },
        "outputId": "cc486e4c-1b9b-4e80-8b9f-4b92307df0c3"
      },
      "source": [
        "#We observe the available attributes\n",
        "df.head()"
      ],
      "execution_count": 54,
      "outputs": [
        {
          "output_type": "execute_result",
          "data": {
            "text/html": [
              "<div>\n",
              "<style scoped>\n",
              "    .dataframe tbody tr th:only-of-type {\n",
              "        vertical-align: middle;\n",
              "    }\n",
              "\n",
              "    .dataframe tbody tr th {\n",
              "        vertical-align: top;\n",
              "    }\n",
              "\n",
              "    .dataframe thead th {\n",
              "        text-align: right;\n",
              "    }\n",
              "</style>\n",
              "<table border=\"1\" class=\"dataframe\">\n",
              "  <thead>\n",
              "    <tr style=\"text-align: right;\">\n",
              "      <th></th>\n",
              "      <th>isin</th>\n",
              "      <th>insertion_datetime</th>\n",
              "      <th>datetime</th>\n",
              "      <th>open</th>\n",
              "      <th>high</th>\n",
              "      <th>low</th>\n",
              "      <th>close</th>\n",
              "      <th>volume</th>\n",
              "      <th>open_interest</th>\n",
              "    </tr>\n",
              "  </thead>\n",
              "  <tbody>\n",
              "    <tr>\n",
              "      <th>0</th>\n",
              "      <td>INE545A01016</td>\n",
              "      <td>NaT</td>\n",
              "      <td>2018-01-01 09:15:00</td>\n",
              "      <td>2419.0</td>\n",
              "      <td>2436.00</td>\n",
              "      <td>2408.90</td>\n",
              "      <td>2435.25</td>\n",
              "      <td>10281</td>\n",
              "      <td>NaN</td>\n",
              "    </tr>\n",
              "    <tr>\n",
              "      <th>1</th>\n",
              "      <td>INE545A01016</td>\n",
              "      <td>NaT</td>\n",
              "      <td>2018-01-01 09:16:00</td>\n",
              "      <td>2435.0</td>\n",
              "      <td>2440.00</td>\n",
              "      <td>2426.45</td>\n",
              "      <td>2439.00</td>\n",
              "      <td>13315</td>\n",
              "      <td>NaN</td>\n",
              "    </tr>\n",
              "    <tr>\n",
              "      <th>2</th>\n",
              "      <td>INE545A01016</td>\n",
              "      <td>NaT</td>\n",
              "      <td>2018-01-01 09:17:00</td>\n",
              "      <td>2439.7</td>\n",
              "      <td>2439.70</td>\n",
              "      <td>2422.10</td>\n",
              "      <td>2424.95</td>\n",
              "      <td>3760</td>\n",
              "      <td>NaN</td>\n",
              "    </tr>\n",
              "    <tr>\n",
              "      <th>3</th>\n",
              "      <td>INE545A01016</td>\n",
              "      <td>NaT</td>\n",
              "      <td>2018-01-01 09:18:00</td>\n",
              "      <td>2420.0</td>\n",
              "      <td>2424.50</td>\n",
              "      <td>2386.50</td>\n",
              "      <td>2395.00</td>\n",
              "      <td>11653</td>\n",
              "      <td>NaN</td>\n",
              "    </tr>\n",
              "    <tr>\n",
              "      <th>4</th>\n",
              "      <td>INE545A01016</td>\n",
              "      <td>NaT</td>\n",
              "      <td>2018-01-01 09:19:00</td>\n",
              "      <td>2395.0</td>\n",
              "      <td>2413.95</td>\n",
              "      <td>2394.70</td>\n",
              "      <td>2409.85</td>\n",
              "      <td>7744</td>\n",
              "      <td>NaN</td>\n",
              "    </tr>\n",
              "  </tbody>\n",
              "</table>\n",
              "</div>"
            ],
            "text/plain": [
              "           isin insertion_datetime  ... volume  open_interest\n",
              "0  INE545A01016                NaT  ...  10281            NaN\n",
              "1  INE545A01016                NaT  ...  13315            NaN\n",
              "2  INE545A01016                NaT  ...   3760            NaN\n",
              "3  INE545A01016                NaT  ...  11653            NaN\n",
              "4  INE545A01016                NaT  ...   7744            NaN\n",
              "\n",
              "[5 rows x 9 columns]"
            ]
          },
          "metadata": {
            "tags": []
          },
          "execution_count": 54
        }
      ]
    },
    {
      "cell_type": "code",
      "metadata": {
        "id": "rjieSTnfk1cf",
        "colab_type": "code",
        "colab": {
          "base_uri": "https://localhost:8080/",
          "height": 294
        },
        "outputId": "46ec0e1b-ba61-464e-bfd2-007e0ae146a6"
      },
      "source": [
        "df.describe()\n",
        "#The description shows that there is no missing data in the 4 stocks available"
      ],
      "execution_count": 55,
      "outputs": [
        {
          "output_type": "execute_result",
          "data": {
            "text/html": [
              "<div>\n",
              "<style scoped>\n",
              "    .dataframe tbody tr th:only-of-type {\n",
              "        vertical-align: middle;\n",
              "    }\n",
              "\n",
              "    .dataframe tbody tr th {\n",
              "        vertical-align: top;\n",
              "    }\n",
              "\n",
              "    .dataframe thead th {\n",
              "        text-align: right;\n",
              "    }\n",
              "</style>\n",
              "<table border=\"1\" class=\"dataframe\">\n",
              "  <thead>\n",
              "    <tr style=\"text-align: right;\">\n",
              "      <th></th>\n",
              "      <th>open</th>\n",
              "      <th>high</th>\n",
              "      <th>low</th>\n",
              "      <th>close</th>\n",
              "      <th>volume</th>\n",
              "      <th>open_interest</th>\n",
              "    </tr>\n",
              "  </thead>\n",
              "  <tbody>\n",
              "    <tr>\n",
              "      <th>count</th>\n",
              "      <td>500000.000000</td>\n",
              "      <td>500000.000000</td>\n",
              "      <td>500000.000000</td>\n",
              "      <td>500000.000000</td>\n",
              "      <td>500000.000000</td>\n",
              "      <td>48060.00000</td>\n",
              "    </tr>\n",
              "    <tr>\n",
              "      <th>mean</th>\n",
              "      <td>1483.673727</td>\n",
              "      <td>1484.529598</td>\n",
              "      <td>1482.876855</td>\n",
              "      <td>1483.721753</td>\n",
              "      <td>407.884840</td>\n",
              "      <td>648.20102</td>\n",
              "    </tr>\n",
              "    <tr>\n",
              "      <th>std</th>\n",
              "      <td>1231.689627</td>\n",
              "      <td>1232.654749</td>\n",
              "      <td>1230.771130</td>\n",
              "      <td>1231.747869</td>\n",
              "      <td>2228.894209</td>\n",
              "      <td>1494.05814</td>\n",
              "    </tr>\n",
              "    <tr>\n",
              "      <th>min</th>\n",
              "      <td>9.000000</td>\n",
              "      <td>9.000000</td>\n",
              "      <td>9.000000</td>\n",
              "      <td>9.000000</td>\n",
              "      <td>0.000000</td>\n",
              "      <td>0.00000</td>\n",
              "    </tr>\n",
              "    <tr>\n",
              "      <th>25%</th>\n",
              "      <td>587.750000</td>\n",
              "      <td>587.950000</td>\n",
              "      <td>587.500000</td>\n",
              "      <td>587.750000</td>\n",
              "      <td>0.000000</td>\n",
              "      <td>91.00000</td>\n",
              "    </tr>\n",
              "    <tr>\n",
              "      <th>50%</th>\n",
              "      <td>891.600000</td>\n",
              "      <td>892.100000</td>\n",
              "      <td>891.000000</td>\n",
              "      <td>891.525000</td>\n",
              "      <td>0.000000</td>\n",
              "      <td>239.50000</td>\n",
              "    </tr>\n",
              "    <tr>\n",
              "      <th>75%</th>\n",
              "      <td>2365.000000</td>\n",
              "      <td>2365.012500</td>\n",
              "      <td>2365.000000</td>\n",
              "      <td>2365.000000</td>\n",
              "      <td>107.000000</td>\n",
              "      <td>616.00000</td>\n",
              "    </tr>\n",
              "    <tr>\n",
              "      <th>max</th>\n",
              "      <td>4927.950000</td>\n",
              "      <td>4953.900000</td>\n",
              "      <td>4855.400000</td>\n",
              "      <td>4928.000000</td>\n",
              "      <td>365036.000000</td>\n",
              "      <td>47171.00000</td>\n",
              "    </tr>\n",
              "  </tbody>\n",
              "</table>\n",
              "</div>"
            ],
            "text/plain": [
              "                open           high  ...         volume  open_interest\n",
              "count  500000.000000  500000.000000  ...  500000.000000    48060.00000\n",
              "mean     1483.673727    1484.529598  ...     407.884840      648.20102\n",
              "std      1231.689627    1232.654749  ...    2228.894209     1494.05814\n",
              "min         9.000000       9.000000  ...       0.000000        0.00000\n",
              "25%       587.750000     587.950000  ...       0.000000       91.00000\n",
              "50%       891.600000     892.100000  ...       0.000000      239.50000\n",
              "75%      2365.000000    2365.012500  ...     107.000000      616.00000\n",
              "max      4927.950000    4953.900000  ...  365036.000000    47171.00000\n",
              "\n",
              "[8 rows x 6 columns]"
            ]
          },
          "metadata": {
            "tags": []
          },
          "execution_count": 55
        }
      ]
    },
    {
      "cell_type": "code",
      "metadata": {
        "id": "Yn4AsMyrmb6w",
        "colab_type": "code",
        "colab": {
          "base_uri": "https://localhost:8080/",
          "height": 171
        },
        "outputId": "69cd99d0-0967-4bc0-9df6-4a9677039cb9"
      },
      "source": [
        "#We subset the stock attributes and observe the correlation between them\n",
        "dff = df[[\"open\",\"high\",\"low\",\"close\"]]\n",
        "dff.corr()"
      ],
      "execution_count": 57,
      "outputs": [
        {
          "output_type": "execute_result",
          "data": {
            "text/html": [
              "<div>\n",
              "<style scoped>\n",
              "    .dataframe tbody tr th:only-of-type {\n",
              "        vertical-align: middle;\n",
              "    }\n",
              "\n",
              "    .dataframe tbody tr th {\n",
              "        vertical-align: top;\n",
              "    }\n",
              "\n",
              "    .dataframe thead th {\n",
              "        text-align: right;\n",
              "    }\n",
              "</style>\n",
              "<table border=\"1\" class=\"dataframe\">\n",
              "  <thead>\n",
              "    <tr style=\"text-align: right;\">\n",
              "      <th></th>\n",
              "      <th>open</th>\n",
              "      <th>high</th>\n",
              "      <th>low</th>\n",
              "      <th>close</th>\n",
              "    </tr>\n",
              "  </thead>\n",
              "  <tbody>\n",
              "    <tr>\n",
              "      <th>open</th>\n",
              "      <td>1.000000</td>\n",
              "      <td>0.999997</td>\n",
              "      <td>0.999998</td>\n",
              "      <td>0.999996</td>\n",
              "    </tr>\n",
              "    <tr>\n",
              "      <th>high</th>\n",
              "      <td>0.999997</td>\n",
              "      <td>1.000000</td>\n",
              "      <td>0.999995</td>\n",
              "      <td>0.999998</td>\n",
              "    </tr>\n",
              "    <tr>\n",
              "      <th>low</th>\n",
              "      <td>0.999998</td>\n",
              "      <td>0.999995</td>\n",
              "      <td>1.000000</td>\n",
              "      <td>0.999998</td>\n",
              "    </tr>\n",
              "    <tr>\n",
              "      <th>close</th>\n",
              "      <td>0.999996</td>\n",
              "      <td>0.999998</td>\n",
              "      <td>0.999998</td>\n",
              "      <td>1.000000</td>\n",
              "    </tr>\n",
              "  </tbody>\n",
              "</table>\n",
              "</div>"
            ],
            "text/plain": [
              "           open      high       low     close\n",
              "open   1.000000  0.999997  0.999998  0.999996\n",
              "high   0.999997  1.000000  0.999995  0.999998\n",
              "low    0.999998  0.999995  1.000000  0.999998\n",
              "close  0.999996  0.999998  0.999998  1.000000"
            ]
          },
          "metadata": {
            "tags": []
          },
          "execution_count": 57
        }
      ]
    },
    {
      "cell_type": "markdown",
      "metadata": {
        "id": "ZzFS9cwkpOxh",
        "colab_type": "text"
      },
      "source": [
        "###Linear Regression"
      ]
    },
    {
      "cell_type": "markdown",
      "metadata": {
        "id": "JcKk_s8AzomJ",
        "colab_type": "text"
      },
      "source": [
        "####All the stocks are highly correlated and suitable for building a model so we will build one predicting closing stock from opening one"
      ]
    },
    {
      "cell_type": "code",
      "metadata": {
        "id": "bAqTCeHzpRQB",
        "colab_type": "code",
        "colab": {
          "base_uri": "https://localhost:8080/",
          "height": 52
        },
        "outputId": "f11a182d-2895-4e7b-fa6f-54af45633d3b"
      },
      "source": [
        "y = dff['close'].values.reshape(-1,1)\n",
        "X = dff['open'].values.reshape(-1,1)\n",
        "\n",
        "X_train, X_test, y_train, y_test = train_test_split(X, y, test_size=0.4, random_state=101)\n",
        "\n",
        "#Model creation and training\n",
        "lm = LinearRegression()\n",
        "lm.fit(X_train,y_train) # Training the regression algorithm"
      ],
      "execution_count": 58,
      "outputs": [
        {
          "output_type": "execute_result",
          "data": {
            "text/plain": [
              "LinearRegression(copy_X=True, fit_intercept=True, n_jobs=None,\n",
              "         normalize=False)"
            ]
          },
          "metadata": {
            "tags": []
          },
          "execution_count": 58
        }
      ]
    },
    {
      "cell_type": "code",
      "metadata": {
        "id": "YZNFNjxypvL8",
        "colab_type": "code",
        "colab": {
          "base_uri": "https://localhost:8080/",
          "height": 269
        },
        "outputId": "cdcc32a0-ebae-44af-f220-cf14be177ec2"
      },
      "source": [
        "#Prediction using our model\n",
        "y_pred = lm.predict(X_test)\n",
        "#We plot the regression line over the test data\n",
        "plt.scatter(X_test, y_test)\n",
        "plt.plot(X_test, y_pred, color='red', linewidth=2)\n",
        "plt.show()"
      ],
      "execution_count": 59,
      "outputs": [
        {
          "output_type": "display_data",
          "data": {
            "image/png": "[encoded data removed]",
            "text/plain": [
              "<Figure size 432x288 with 1 Axes>"
            ]
          },
          "metadata": {
            "tags": []
          }
        }
      ]
    },
    {
      "cell_type": "markdown",
      "metadata": {
        "id": "FRUv29ngqZW9",
        "colab_type": "text"
      },
      "source": [
        "###Model Performance evaluation"
      ]
    },
    {
      "cell_type": "code",
      "metadata": {
        "id": "_6izsAWwqYZu",
        "colab_type": "code",
        "colab": {
          "base_uri": "https://localhost:8080/",
          "height": 35
        },
        "outputId": "7acc57e0-de1c-4c5f-dc6d-9d30782a277d"
      },
      "source": [
        "lm.score(X_test,y_test)\n",
        "#The R^2 coefficient is very close to 1.0 which is a good sign"
      ],
      "execution_count": 40,
      "outputs": [
        {
          "output_type": "execute_result",
          "data": {
            "text/plain": [
              "0.9999927929674315"
            ]
          },
          "metadata": {
            "tags": []
          },
          "execution_count": 40
        }
      ]
    },
    {
      "cell_type": "code",
      "metadata": {
        "id": "jP5XDdOaqkZ6",
        "colab_type": "code",
        "colab": {
          "base_uri": "https://localhost:8080/",
          "height": 355
        },
        "outputId": "6fb4fc76-63c3-45fe-942c-d2b9dd95e9da"
      },
      "source": [
        "#We observe predicted values alongside existing ones\n",
        "df = pd.DataFrame({'Actual': y_test.flatten(), 'Predicted': y_pred.flatten()})\n",
        "df.head(10)"
      ],
      "execution_count": 61,
      "outputs": [
        {
          "output_type": "execute_result",
          "data": {
            "text/html": [
              "<div>\n",
              "<style scoped>\n",
              "    .dataframe tbody tr th:only-of-type {\n",
              "        vertical-align: middle;\n",
              "    }\n",
              "\n",
              "    .dataframe tbody tr th {\n",
              "        vertical-align: top;\n",
              "    }\n",
              "\n",
              "    .dataframe thead th {\n",
              "        text-align: right;\n",
              "    }\n",
              "</style>\n",
              "<table border=\"1\" class=\"dataframe\">\n",
              "  <thead>\n",
              "    <tr style=\"text-align: right;\">\n",
              "      <th></th>\n",
              "      <th>Actual</th>\n",
              "      <th>Predicted</th>\n",
              "    </tr>\n",
              "  </thead>\n",
              "  <tbody>\n",
              "    <tr>\n",
              "      <th>0</th>\n",
              "      <td>4134.90</td>\n",
              "      <td>4133.235014</td>\n",
              "    </tr>\n",
              "    <tr>\n",
              "      <th>1</th>\n",
              "      <td>2860.25</td>\n",
              "      <td>2863.121309</td>\n",
              "    </tr>\n",
              "    <tr>\n",
              "      <th>2</th>\n",
              "      <td>794.50</td>\n",
              "      <td>792.017429</td>\n",
              "    </tr>\n",
              "    <tr>\n",
              "      <th>3</th>\n",
              "      <td>269.45</td>\n",
              "      <td>268.991195</td>\n",
              "    </tr>\n",
              "    <tr>\n",
              "      <th>4</th>\n",
              "      <td>1865.00</td>\n",
              "      <td>1865.071250</td>\n",
              "    </tr>\n",
              "    <tr>\n",
              "      <th>5</th>\n",
              "      <td>3989.95</td>\n",
              "      <td>3990.127837</td>\n",
              "    </tr>\n",
              "    <tr>\n",
              "      <th>6</th>\n",
              "      <td>10.00</td>\n",
              "      <td>9.978204</td>\n",
              "    </tr>\n",
              "    <tr>\n",
              "      <th>7</th>\n",
              "      <td>823.35</td>\n",
              "      <td>823.369001</td>\n",
              "    </tr>\n",
              "    <tr>\n",
              "      <th>8</th>\n",
              "      <td>800.00</td>\n",
              "      <td>800.017830</td>\n",
              "    </tr>\n",
              "    <tr>\n",
              "      <th>9</th>\n",
              "      <td>2723.90</td>\n",
              "      <td>2705.613409</td>\n",
              "    </tr>\n",
              "  </tbody>\n",
              "</table>\n",
              "</div>"
            ],
            "text/plain": [
              "    Actual    Predicted\n",
              "0  4134.90  4133.235014\n",
              "1  2860.25  2863.121309\n",
              "2   794.50   792.017429\n",
              "3   269.45   268.991195\n",
              "4  1865.00  1865.071250\n",
              "5  3989.95  3990.127837\n",
              "6    10.00     9.978204\n",
              "7   823.35   823.369001\n",
              "8   800.00   800.017830\n",
              "9  2723.90  2705.613409"
            ]
          },
          "metadata": {
            "tags": []
          },
          "execution_count": 61
        }
      ]
    },
    {
      "cell_type": "code",
      "metadata": {
        "id": "ygOCxkkEqvsl",
        "colab_type": "code",
        "colab": {
          "base_uri": "https://localhost:8080/",
          "height": 87
        },
        "outputId": "4aed0300-7700-46be-eda9-db3f88db3d84"
      },
      "source": [
        "#We display some other common performance metrics\n",
        "print('Mean of the  closing stock :', y.mean())  \n",
        "print('Mean Absolute Error:', metrics.mean_absolute_error(y_test, y_pred))  \n",
        "print('Mean Squared Error:', metrics.mean_squared_error(y_test, y_pred))  \n",
        "print('Root Mean Squared Error:', np.sqrt(metrics.mean_squared_error(y_test, y_pred)))"
      ],
      "execution_count": 62,
      "outputs": [
        {
          "output_type": "stream",
          "text": [
            "Mean of the  closing stock : 1483.7217530000003\n",
            "Mean Absolute Error: 1.059080402163002\n",
            "Mean Squared Error: 10.936168008063396\n",
            "Root Mean Squared Error: 3.3069877544471487\n"
          ],
          "name": "stdout"
        }
      ]
    },
    {
      "cell_type": "markdown",
      "metadata": {
        "id": "vHsw0fsWrmdc",
        "colab_type": "text"
      },
      "source": [
        "#####The root mean squared error is far below 1% of the mean of the closing stock so we can conclude we have achieved a model that can make good predictions\n"
      ]
    }
  ]
}